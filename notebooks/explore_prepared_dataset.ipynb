{
 "cells": [
  {
   "cell_type": "markdown",
   "id": "1f03937e",
   "metadata": {},
   "source": [
    "# Explore Prepared Dataset (Minimal)\n",
    "\n",
    "Loads prepared dataset samples, builds a tiny cosine-sim index using Qwen 0.6B embeddings, and lets you run a quick text query."
   ]
  },
  {
   "cell_type": "code",
   "execution_count": 1,
   "id": "ad331763-65a5-4054-bc83-da680ad0662d",
   "metadata": {},
   "outputs": [
    {
     "name": "stdout",
     "output_type": "stream",
     "text": [
      "/Users/shishirjoshi/development/lab/reasoning_embedder\n"
     ]
    }
   ],
   "source": [
    "%cd ~/development/lab/reasoning_embedder"
   ]
  },
  {
   "cell_type": "code",
   "execution_count": 2,
   "id": "3394275d",
   "metadata": {},
   "outputs": [
    {
     "name": "stderr",
     "output_type": "stream",
     "text": [
      "/Users/shishirjoshi/development/lab/reasoning_embedder/.venv311/lib/python3.11/site-packages/tqdm/auto.py:21: TqdmWarning: IProgress not found. Please update jupyter and ipywidgets. See https://ipywidgets.readthedocs.io/en/stable/user_install.html\n",
      "  from .autonotebook import tqdm as notebook_tqdm\n"
     ]
    }
   ],
   "source": [
    "# Minimal imports\n",
    "import os, json, glob, math\n",
    "from typing import List, Tuple\n",
    "\n",
    "import numpy as np\n",
    "\n",
    "# Try sentence-transformers first, fall back to transformers if needed\n",
    "try:\n",
    "    from sentence_transformers import SentenceTransformer\n",
    "    _USE_ST = True\n",
    "except Exception:\n",
    "    from transformers import AutoTokenizer, AutoModel\n",
    "    import torch\n",
    "    _USE_ST = False\n",
    "\n",
    "DATA_DIR = 'data/prepared_reasonir_hq'  # change if your prepared set lives elsewhere\n",
    "MODEL_NAME = 'Qwen/Qwen3-Embedding-0.6B'\n",
    "DEVICE = 'cpu'#'cuda' if (not _USE_ST and 'torch' in globals() and torch.cuda.is_available()) else ('mps' if (not _USE_ST and 'torch' in globals() and hasattr(torch.backends, 'mps') and torch.backends.mps.is_available()) else 'cpu')\n",
    "MAX_DOCS = 100  # keep minimal for a quick demo index\n",
    "TOP_K = 5\n"
   ]
  },
  {
   "cell_type": "code",
   "execution_count": 3,
   "id": "bc8e1b17",
   "metadata": {},
   "outputs": [
    {
     "name": "stdout",
     "output_type": "stream",
     "text": [
      "Loaded 100 docs for the mini index.\n"
     ]
    }
   ],
   "source": [
    "# Minimal loader: support HF dataset saved to disk OR fallback JSONL scan\n",
    "def _extract_texts_from_json(obj) -> List[str]:\n",
    "    texts = []\n",
    "    if isinstance(obj, dict):\n",
    "        for key in ('document_text', 'text', 'doc', 'content'):\n",
    "            if key in obj and isinstance(obj[key], str):\n",
    "                texts.append(obj[key])\n",
    "        for key in ('pos', 'neg', 'positives', 'negatives', 'pairs'):\n",
    "            if key in obj and isinstance(obj[key], list):\n",
    "                for item in obj[key]:\n",
    "                    if isinstance(item, list) and len(item) == 2 and isinstance(item[1], str):\n",
    "                        texts.append(item[1])\n",
    "    elif isinstance(obj, list):\n",
    "        if len(obj) == 2 and isinstance(obj[1], str):\n",
    "            texts.append(obj[1])\n",
    "        else:\n",
    "            for it in obj:\n",
    "                if isinstance(it, str):\n",
    "                    texts.append(it)\n",
    "    return texts\n",
    "\n",
    "def load_corpus_from_prepared(data_dir: str, max_docs: int = 300) -> List[str]:\n",
    "    corpus: List[str] = []\n",
    "    ds_path = os.path.join(data_dir, 'dataset_dict.json')\n",
    "    if os.path.exists(ds_path):\n",
    "        # Try HuggingFace load_from_disk first\n",
    "        try:\n",
    "            from datasets import load_from_disk\n",
    "            dsd = load_from_disk(data_dir)  # DatasetDict with splits like 'train'\n",
    "            split = dsd['train'] if 'train' in dsd else list(dsd.values())[0]\n",
    "            for ex in split.select(range(min(max_docs, len(split)))):\n",
    "                if isinstance(ex, dict):\n",
    "                    if isinstance(ex.get('document_text'), str):\n",
    "                        corpus.append(ex['document_text'])\n",
    "                        continue\n",
    "                    for key in ('pos', 'neg', 'positives', 'negatives', 'pairs'):\n",
    "                        val = ex.get(key)\n",
    "                        if isinstance(val, list) and val:\n",
    "                            itm = val[0]\n",
    "                            if isinstance(itm, list) and len(itm) == 2 and isinstance(itm[1], str):\n",
    "                                corpus.append(itm[1])\n",
    "                                break\n",
    "                if len(corpus) < max_docs and isinstance(ex, dict):\n",
    "                    for key in ('text', 'doc', 'content'):\n",
    "                        if isinstance(ex.get(key), str):\n",
    "                            corpus.append(ex[key])\n",
    "                            break\n",
    "            return corpus\n",
    "        except Exception as e:\n",
    "            print(f'Failed to read HF dataset at {data_dir}: {e}')\n",
    "            # Fallback to reading Arrow directly via pyarrow\n",
    "            try:\n",
    "                import pyarrow as pa, pyarrow.ipc as pa_ipc\n",
    "                arrow_files = glob.glob(os.path.join(data_dir, 'train', '**', '*.arrow'), recursive=True)\n",
    "                if not arrow_files:\n",
    "                    arrow_files = glob.glob(os.path.join(data_dir, 'train', '*.arrow'))\n",
    "                taken = 0\n",
    "                for ap in arrow_files:\n",
    "                    with pa.memory_map(ap, 'r') as source:\n",
    "                        reader = pa_ipc.open_file(source)\n",
    "                        table = reader.read_all()\n",
    "                    rows = table.to_pylist()\n",
    "                    for row in rows:\n",
    "                        if taken >= max_docs:\n",
    "                            return corpus\n",
    "                        # Reuse JSON extractor on the row dict\n",
    "                        texts = _extract_texts_from_json(row)\n",
    "                        if texts:\n",
    "                            corpus.append(texts[0])\n",
    "                            taken += 1\n",
    "                if corpus:\n",
    "                    return corpus\n",
    "            except Exception as e2:\n",
    "                print(f'Failed to read Arrow directly at {data_dir}: {e2}')\n",
    "            # fall through to JSONL scan\n",
    "    # JSONL fallback\n",
    "    jsonl_paths = glob.glob(os.path.join(data_dir, '**', '*.jsonl'), recursive=True)\n",
    "    if not jsonl_paths:\n",
    "        print(f'No HF dataset or JSONL files found in {data_dir}. Ensure you have run `reason-prepare`.')\n",
    "        return corpus\n",
    "    for p in jsonl_paths:\n",
    "        with open(p, 'r', encoding='utf-8') as f:\n",
    "            for line in f:\n",
    "                line = line.strip()\n",
    "                if not line:\n",
    "                    continue\n",
    "                try:\n",
    "                    obj = json.loads(line)\n",
    "                except Exception:\n",
    "                    continue\n",
    "                texts = _extract_texts_from_json(obj)\n",
    "                for t in texts:\n",
    "                    if t and isinstance(t, str):\n",
    "                        corpus.append(t)\n",
    "                        if len(corpus) >= max_docs:\n",
    "                            return corpus\n",
    "    return corpus\n",
    "\n",
    "corpus_texts = load_corpus_from_prepared(DATA_DIR, MAX_DOCS)\n",
    "print(f'Loaded {len(corpus_texts)} docs for the mini index.')\n"
   ]
  },
  {
   "cell_type": "code",
   "execution_count": 4,
   "id": "644faa07",
   "metadata": {},
   "outputs": [
    {
     "name": "stdout",
     "output_type": "stream",
     "text": [
      "Model ready.\n"
     ]
    }
   ],
   "source": [
    "# Load embedding model (minimal)\n",
    "if _USE_ST:\n",
    "    model = SentenceTransformer(MODEL_NAME)\n",
    "    def encode_texts(texts: List[str]) -> np.ndarray:\n",
    "        embs = model.encode(texts, convert_to_numpy=True, show_progress_bar=False, normalize_embeddings=True)\n",
    "        return embs.astype(np.float32)\n",
    "else:\n",
    "    tokenizer = AutoTokenizer.from_pretrained(MODEL_NAME)\n",
    "    base_model = AutoModel.from_pretrained(MODEL_NAME)\n",
    "    if DEVICE != 'cpu':\n",
    "        base_model = base_model.to(DEVICE)\n",
    "    base_model.eval()\n",
    "    import torch\n",
    "    @torch.no_grad()\n",
    "    def encode_texts(texts: List[str]) -> np.ndarray:\n",
    "        all_embs = []\n",
    "        for i in range(0, len(texts), 32):\n",
    "            batch = texts[i:i+32]\n",
    "            inputs = tokenizer(batch, padding=True, truncation=True, return_tensors='pt')\n",
    "            if DEVICE != 'cpu':\n",
    "                inputs = {k: v.to(DEVICE) for k, v in inputs.items()}\n",
    "            outputs = base_model(**inputs)\n",
    "            # Use last hidden state CLS pooling (minimal); some embedding models expose specific methods\n",
    "            hidden = outputs.last_hidden_state[:, 0, :]\n",
    "            # L2 normalize\n",
    "            hidden = torch.nn.functional.normalize(hidden, p=2, dim=1)\n",
    "            all_embs.append(hidden.detach().cpu().float())\n",
    "        embs = torch.cat(all_embs, dim=0).numpy()\n",
    "        return embs.astype(np.float32)\n",
    "\n",
    "print('Model ready.')\n"
   ]
  },
  {
   "cell_type": "code",
   "execution_count": null,
   "id": "14648ed3",
   "metadata": {},
   "outputs": [],
   "source": [
    "# Build a tiny cosine-sim index\n",
    "if corpus_texts:\n",
    "    doc_embs = encode_texts(corpus_texts)  # shape [N, D], normalized\n",
    "    # Ensure normalized (some encoders already normalize)\n",
    "    norms = np.linalg.norm(doc_embs, axis=1, keepdims=True) + 1e-8\n",
    "    doc_embs = doc_embs / norms\n",
    "else:\n",
    "    doc_embs = np.zeros((0, 1), dtype=np.float32)\n",
    "\n",
    "def search(query: str, top_k: int = TOP_K) -> List[Tuple[int, float]]:\n",
    "    if len(corpus_texts) == 0:\n",
    "        return []\n",
    "    q = encode_texts([query])[0]\n",
    "    q = q / (np.linalg.norm(q) + 1e-8)\n",
    "    sims = (doc_embs @ q)  # cosine since both normalized\n",
    "    idx = np.argpartition(-sims, min(top_k, len(sims)-1))[:top_k]\n",
    "    idx = idx[np.argsort(-sims[idx])]\n",
    "    return [(int(i), float(sims[i])) for i in idx]\n",
    "\n",
    "print(f'Index built with {len(corpus_texts)} docs.')\n"
   ]
  },
  {
   "cell_type": "code",
   "execution_count": null,
   "id": "757c3d6a",
   "metadata": {},
   "outputs": [],
   "source": [
    "# Query the index (edit `query` and re-run this cell)\n",
    "query = 'how to structure reasoning steps for QA over documents?'\n",
    "hits = search(query, top_k=TOP_K)\n",
    "print(f'Query: {query}\n",
    "')\n",
    "for rank, (i, score) in enumerate(hits, 1):\n",
    "    text = corpus_texts[i]\n",
    "    preview = (text[:400] + '...') if len(text) > 400 else text\n",
    "    print(f'#{rank} | score={score:.4f} | doc_id={i}')\n",
    "    print(preview)\n",
    "    print('-'*80)\n"
   ]
  },
  {
   "cell_type": "code",
   "execution_count": null,
   "id": "6916204b-9031-4d79-ad7a-5c6f7df62b45",
   "metadata": {},
   "outputs": [],
   "source": []
  }
 ],
 "metadata": {
  "kernelspec": {
   "display_name": "reas_emb311",
   "language": "python",
   "name": ".venv311"
  },
  "language_info": {
   "codemirror_mode": {
    "name": "ipython",
    "version": 3
   },
   "file_extension": ".py",
   "mimetype": "text/x-python",
   "name": "python",
   "nbconvert_exporter": "python",
   "pygments_lexer": "ipython3",
   "version": "3.11.9"
  }
 },
 "nbformat": 4,
 "nbformat_minor": 5
}
